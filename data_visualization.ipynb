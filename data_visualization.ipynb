{
 "cells": [
  {
   "cell_type": "code",
   "execution_count": null,
   "metadata": {},
   "outputs": [],
   "source": [
    "import matplotlib.pyplot as plt\n",
    "import pandas as pd"
   ]
  },
  {
   "cell_type": "code",
   "execution_count": null,
   "metadata": {},
   "outputs": [],
   "source": [
    "# add new columns\n",
    "def process_data(data):\n",
    "    # compute std dev. of each iter here\n",
    "    new_df = data.groupby([\"iter\"])['mA'].median().reset_index()\n",
    "    new_df = new_df.rename(columns={'mA': 'Median Current Value'})\n",
    "    return new_df"
   ]
  },
  {
   "cell_type": "code",
   "execution_count": null,
   "metadata": {},
   "outputs": [],
   "source": [
    "\n",
    "# set up grid, one graph per test\n",
    "file_names = [\"T1_forward_0_0psi.csv\",\n",
    "              \"T2_backward_0_0psi.csv\",\n",
    "              \"T3_forward_3_2psi.csv\",\n",
    "              \"T4_backward_3_3psi.csv\",\n",
    "              \"T5_backward_5_4psi.csv\",\n",
    "              \"T6_forward_5_4psi.csv\",\n",
    "              \"T7_forward_10_2psi.csv\",\n",
    "              \"T8_backward_10_2psi.csv\",]\n",
    "\n",
    "nrow, ncol = 4, 2\n",
    "fig, ax = plt.subplots(nrow, ncol)\n",
    "fig2, ax2 = plt.subplots(nrow*ncol, 1)\n",
    "color_map = {0: \"red\", 1: \"blue\"}\n",
    "color_mapper = lambda x : color_map[x%2]\n",
    "\n",
    "# read in and process data from each test\n",
    "for i in range(nrow):\n",
    "    for j in range(ncol):\n",
    "        idx = (i*ncol) + j\n",
    "        this_ax = ax[i,j]\n",
    "        that_ax = ax2[idx]\n",
    "        file_name = file_names[idx]\n",
    "        df = pd.read_csv(file_name, skiprows=1, names=[\"time\", \"measurement\", \"mA\", \"iter\"])\n",
    "        df = df[df['mA'] <= 1200] # toss the garbage values\n",
    "        df[\"iter\"] = df[\"iter\"].astype(int)\n",
    "        new = process_data(df)\n",
    "        df.reset_index(inplace=True)\n",
    "        df[\"color\"] = df[\"iter\"].map(color_mapper)\n",
    "        df.plot(x=\"index\", y=\"mA\", kind=\"scatter\", ax=that_ax, c=\"color\")\n",
    "        new.plot(x=\"iter\", y=\"Median Current Value\", kind=\"bar\", ax=this_ax)\n",
    "        this_ax.title.set_text(file_name)\n",
    "        that_ax.title.set_text(file_name)\n",
    "\n",
    "fig.set_size_inches(18, 30, forward=True)\n",
    "fig2.set_size_inches(18, 40, forward=True)\n",
    "plt.show()"
   ]
  },
  {
   "cell_type": "code",
   "execution_count": null,
   "metadata": {},
   "outputs": [],
   "source": []
  }
 ],
 "metadata": {
  "kernelspec": {
   "display_name": "Python 3",
   "language": "python",
   "name": "python3"
  },
  "language_info": {
   "codemirror_mode": {
    "name": "ipython",
    "version": 3
   },
   "file_extension": ".py",
   "mimetype": "text/x-python",
   "name": "python",
   "nbconvert_exporter": "python",
   "pygments_lexer": "ipython3",
   "version": "3.11.0"
  }
 },
 "nbformat": 4,
 "nbformat_minor": 2
}
